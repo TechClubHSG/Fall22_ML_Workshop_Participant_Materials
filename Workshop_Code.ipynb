{
  "cells": [
    {
      "cell_type": "markdown",
      "metadata": {
        "id": "t7niUFzzMbWj"
      },
      "source": [
        "# Heart Attack Predictions"
      ]
    },
    {
      "cell_type": "markdown",
      "metadata": {
        "id": "Y8TEAC4cMbWo"
      },
      "source": [
        "Given medical data collected on patients, let's predict if a person has a risk of heart attack."
      ]
    },
    {
      "cell_type": "code",
      "execution_count": 90,
      "metadata": {
        "execution": {
          "iopub.execute_input": "2022-10-05T17:28:03.397561Z",
          "iopub.status.busy": "2022-10-05T17:28:03.396522Z",
          "iopub.status.idle": "2022-10-05T17:28:04.979339Z",
          "shell.execute_reply": "2022-10-05T17:28:04.977991Z",
          "shell.execute_reply.started": "2022-10-05T17:28:03.397449Z"
        },
        "id": "cdOMCL-AMbWp",
        "trusted": true
      },
      "outputs": [],
      "source": [
        "import numpy as np\n",
        "import pandas as pd\n",
        "import matplotlib.pyplot as plt\n",
        "import seaborn as sns\n",
        "\n",
        "from sklearn.model_selection import train_test_split\n",
        "from sklearn.preprocessing import StandardScaler\n",
        "\n",
        "from sklearn.linear_model import LogisticRegression\n",
        "from sklearn.neighbors import  KNeighborsClassifier\n",
        "from sklearn.ensemble import RandomForestClassifier\n",
        "from sklearn.neural_network import  MLPClassifier\n",
        "from sklearn.svm import SVC\n",
        "\n",
        "from sklearn.metrics import accuracy_score, f1_score, recall_score, precision_score, confusion_matrix"
      ]
    },
    {
      "cell_type": "code",
      "execution_count": 91,
      "metadata": {
        "colab": {
          "base_uri": "https://localhost:8080/"
        },
        "execution": {
          "iopub.execute_input": "2022-10-05T17:28:04.982028Z",
          "iopub.status.busy": "2022-10-05T17:28:04.981555Z",
          "iopub.status.idle": "2022-10-05T17:28:05.040273Z",
          "shell.execute_reply": "2022-10-05T17:28:05.038868Z",
          "shell.execute_reply.started": "2022-10-05T17:28:04.981984Z"
        },
        "id": "2IzmLGFEMbWq",
        "outputId": "7a0f03e9-6d0e-4a04-f70d-23d66b85cdc5",
        "trusted": true
      },
      "outputs": [
        {
          "name": "stdout",
          "output_type": "stream",
          "text": [
            "     age  sex  cp  trtbps  chol  fbs  restecg  thalachh  exng  oldpeak  slp  \\\n",
            "0     63    1   3     145   233    1        0       150     0      2.3    0   \n",
            "1     37    1   2     130   250    0        1       187     0      3.5    0   \n",
            "2     41    0   1     130   204    0        0       172     0      1.4    2   \n",
            "3     56    1   1     120   236    0        1       178     0      0.8    2   \n",
            "4     57    0   0     120   354    0        1       163     1      0.6    2   \n",
            "..   ...  ...  ..     ...   ...  ...      ...       ...   ...      ...  ...   \n",
            "298   57    0   0     140   241    0        1       123     1      0.2    1   \n",
            "299   45    1   3     110   264    0        1       132     0      1.2    1   \n",
            "300   68    1   0     144   193    1        1       141     0      3.4    1   \n",
            "301   57    1   0     130   131    0        1       115     1      1.2    1   \n",
            "302   57    0   1     130   236    0        0       174     0      0.0    1   \n",
            "\n",
            "     caa  thall  output  \n",
            "0      0      1       1  \n",
            "1      0      2       1  \n",
            "2      0      2       1  \n",
            "3      0      2       1  \n",
            "4      0      2       1  \n",
            "..   ...    ...     ...  \n",
            "298    0      3       0  \n",
            "299    0      3       0  \n",
            "300    2      3       0  \n",
            "301    1      3       0  \n",
            "302    1      2       0  \n",
            "\n",
            "[303 rows x 14 columns]\n"
          ]
        }
      ],
      "source": [
        "data = pd.read_csv(\"/content/heart.csv\")\n",
        "print(data)"
      ]
    },
    {
      "cell_type": "markdown",
      "metadata": {
        "id": "YOABLupjwBgz"
      },
      "source": [
        "Only 14 attributes used:\n",
        "1. #3 (age): age in years\n",
        "2. #4 (sex): sex (1 = male; 0 = female)\n",
        "3. #9 (cp): chest pain type\n",
        "-- Value 1: typical angina\n",
        "-- Value 2: atypical angina\n",
        "-- Value 3: non-anginal pain\n",
        "-- Value 4: asymptomatic\n",
        "4. #10 (trestbps): resting blood pressure (in mm Hg on admission to the hospital)\n",
        "5. #12 (chol): serum cholestoral in mg/dl\n",
        "6. #16 (fbs): (fasting blood sugar > 120 mg/dl) (1 = true; 0 = false)\n",
        "7. #19 (restecg): esting electrocardiographic results\n",
        "-- Value 0: normal\n",
        "-- Value 1: having ST-T wave abnormality (T wave inversions and/or ST elevation or depression of > 0.05 mV)\n",
        "-- Value 2: showing probable or definite left ventricular hypertrophy by Estes' criteria\n",
        "8. #32 (thalach): maximum heart rate achieved\n",
        "9. #38 (exang): exercise induced angina (1 = yes; 0 = no)\n",
        "10. #40 (oldpeak): ST depression induced by exercise relative to rest\n",
        "11. #41 (slope): the slope of the peak exercise ST segment\n",
        "-- Value 1: upsloping\n",
        "-- Value 2: flat\n",
        "-- Value 3: downsloping\n",
        "12. #44 (ca): number of major vessels (0-3) colored by flourosopy\n",
        "13. #51 (thal):  3 = normal; 6 = fixed defect; 7 = reversable defect\n",
        "14. #58 (num): (the predicted attribute) diagnosis of heart disease (angiographic disease status)\n",
        "-- Value 0: < 50% diameter narrowing\n",
        "-- Value 1: > 50% diameter narrowing\n",
        "(in any major vessel: attributes 59 through 68 are vessels)"
      ]
    },
    {
      "cell_type": "code",
      "execution_count": 92,
      "metadata": {
        "colab": {
          "base_uri": "https://localhost:8080/"
        },
        "id": "ru0eBGzQuNyD",
        "outputId": "2b26ffdb-4e9f-4739-f6b1-38d4e1ceb9f7"
      },
      "outputs": [
        {
          "name": "stdout",
          "output_type": "stream",
          "text": [
            "The minimum value for age:29\n",
            "The maximum value for age:77\n",
            "\n",
            "The minimum value for sex:0\n",
            "The maximum value for sex:1\n",
            "\n",
            "The minimum value for cp:0\n",
            "The maximum value for cp:3\n",
            "\n",
            "The minimum value for trtbps:94\n",
            "The maximum value for trtbps:200\n",
            "\n",
            "The minimum value for chol:126\n",
            "The maximum value for chol:564\n",
            "\n",
            "The minimum value for fbs:0\n",
            "The maximum value for fbs:1\n",
            "\n",
            "The minimum value for restecg:0\n",
            "The maximum value for restecg:2\n",
            "\n",
            "The minimum value for thalachh:71\n",
            "The maximum value for thalachh:202\n",
            "\n",
            "The minimum value for exng:0\n",
            "The maximum value for exng:1\n",
            "\n",
            "The minimum value for oldpeak:0.0\n",
            "The maximum value for oldpeak:6.2\n",
            "\n",
            "The minimum value for slp:0\n",
            "The maximum value for slp:2\n",
            "\n",
            "The minimum value for caa:0\n",
            "The maximum value for caa:4\n",
            "\n",
            "The minimum value for thall:0\n",
            "The maximum value for thall:3\n",
            "\n",
            "The minimum value for output:0\n",
            "The maximum value for output:1\n",
            "\n"
          ]
        }
      ],
      "source": [
        "for col in data.columns:\n",
        "  print(\"The minimum value for {}:\".format(col) + str(min(data[col])))\n",
        "  print(\"The maximum value for {}:\".format(col) + str(max(data[col])))\n",
        "  print(\"\")"
      ]
    },
    {
      "cell_type": "markdown",
      "metadata": {
        "id": "kXfMHCWLMbWr"
      },
      "source": [
        "The data is entirely numerical and there is no missing values. It only remains to split and scale the data."
      ]
    },
    {
      "cell_type": "markdown",
      "metadata": {
        "id": "YE_qCYdBMbWs"
      },
      "source": [
        "# Preprocessing"
      ]
    },
    {
      "cell_type": "code",
      "execution_count": 93,
      "metadata": {
        "execution": {
          "iopub.execute_input": "2022-10-05T17:28:05.042853Z",
          "iopub.status.busy": "2022-10-05T17:28:05.042328Z",
          "iopub.status.idle": "2022-10-05T17:28:05.052006Z",
          "shell.execute_reply": "2022-10-05T17:28:05.050557Z",
          "shell.execute_reply.started": "2022-10-05T17:28:05.042804Z"
        },
        "id": "RrbyctI5MbWs",
        "trusted": true
      },
      "outputs": [],
      "source": [
        "def preprocess_inputs(df):\n",
        "    df = df.copy()\n",
        "    \n",
        "    # Split X and y: X being all of the explanatory variables, y being the outcome to predict \n",
        "    X = df.drop('output', axis=1)\n",
        "    y = df['output']\n",
        "    \n",
        "    # Train and test sets: These are four \n",
        "    X_train, X_test, y_train, y_test = train_test_split(X, y, train_size=0.8, shuffle=True, random_state=0)\n",
        "    \n",
        "    X_copy = X_train\n",
        "    # Scale X with a standard scaler: This scales the data so that we can use it more easily for seperation\n",
        "    scaler = StandardScaler()\n",
        "    X_train = pd.DataFrame(scaler.fit_transform(X_train), index=X_train.index, columns=X_train.columns)\n",
        "    X_test = pd.DataFrame(scaler.transform(X_test), index=X_test.index, columns=X_test.columns)\n",
        "    \n",
        "    return X_train, X_test, y_train, y_test, X_copy"
      ]
    },
    {
      "cell_type": "code",
      "execution_count": 94,
      "metadata": {
        "colab": {
          "base_uri": "https://localhost:8080/"
        },
        "execution": {
          "iopub.execute_input": "2022-10-05T17:28:05.054976Z",
          "iopub.status.busy": "2022-10-05T17:28:05.054612Z",
          "iopub.status.idle": "2022-10-05T17:28:05.095503Z",
          "shell.execute_reply": "2022-10-05T17:28:05.094133Z",
          "shell.execute_reply.started": "2022-10-05T17:28:05.054942Z"
        },
        "id": "Pr1GZcWOMbWt",
        "outputId": "00caf7e6-eac1-4c43-c55e-b957fbaadcde",
        "trusted": true
      },
      "outputs": [
        {
          "name": "stdout",
          "output_type": "stream",
          "text": [
            "          age       sex        cp    trtbps      chol       fbs   restecg  \\\n",
            "74  -1.327733 -1.436416  0.985842 -0.574125 -0.632674 -0.418040  0.901639   \n",
            "153  1.249032 -1.436416  0.985842  0.831066  0.585437 -0.418040 -0.979367   \n",
            "64   0.352766  0.696177  0.985842  0.479768 -0.670155  2.392117 -0.979367   \n",
            "296  0.912932 -1.436416 -0.922749 -0.457026 -0.932517 -0.418040  0.901639   \n",
            "287  0.240733  0.696177  0.031547  1.299463 -0.276611 -0.418040 -0.979367   \n",
            "..        ...       ...       ...       ...       ...       ...       ...   \n",
            "251 -1.327733  0.696177 -0.922749  0.011371  0.004491  2.392117 -0.979367   \n",
            "192 -0.095367  0.696177 -0.922749 -0.691224 -1.101178 -0.418040  0.901639   \n",
            "117  0.128699  0.696177  1.940138 -0.691224 -1.007478 -0.418040 -0.979367   \n",
            "47  -0.879600  0.696177  0.985842  0.362669  0.191893 -0.418040 -0.979367   \n",
            "172  0.352766  0.696177  0.031547 -0.691224  0.697878 -0.418040 -0.979367   \n",
            "\n",
            "     thalachh      exng   oldpeak       slp       caa     thall  \n",
            "74   0.656262 -0.709299 -0.724609 -0.661693 -0.707107 -0.464729  \n",
            "153  0.094007 -0.709299 -0.892493 -0.661693  0.265165 -0.464729  \n",
            "64   0.656262 -0.709299 -0.892493  0.955779 -0.707107 -0.464729  \n",
            "296 -0.597999  1.409842 -0.892493 -0.661693 -0.707107 -0.464729  \n",
            "287  0.613011 -0.709299 -0.892493  0.955779  0.265165 -0.464729  \n",
            "..        ...       ...       ...       ...       ...       ...  \n",
            "251 -0.295246  1.409842 -0.808551 -0.661693  3.181981  1.141906  \n",
            "192 -1.592757 -0.709299  0.282698 -0.661693  0.265165  1.141906  \n",
            "117  0.526511 -0.709299  0.702409 -0.661693 -0.707107  1.141906  \n",
            "47   0.267008 -0.709299 -0.892493  0.955779 -0.707107 -0.464729  \n",
            "172  0.440010 -0.709299  0.618467 -0.661693 -0.707107 -0.464729  \n",
            "\n",
            "[242 rows x 13 columns]\n"
          ]
        }
      ],
      "source": [
        "X_train, X_test, y_train, y_test, X_copy = preprocess_inputs(data)\n",
        "print(X_train)"
      ]
    },
    {
      "cell_type": "markdown",
      "metadata": {
        "id": "6XxUiyXWMbWu"
      },
      "source": [
        "# Training"
      ]
    },
    {
      "cell_type": "code",
      "execution_count": 95,
      "metadata": {
        "colab": {
          "base_uri": "https://localhost:8080/"
        },
        "execution": {
          "iopub.execute_input": "2022-10-05T17:28:05.097724Z",
          "iopub.status.busy": "2022-10-05T17:28:05.097356Z",
          "iopub.status.idle": "2022-10-05T17:28:05.434943Z",
          "shell.execute_reply": "2022-10-05T17:28:05.43401Z",
          "shell.execute_reply.started": "2022-10-05T17:28:05.097691Z"
        },
        "id": "3J1h0ZhXMbWv",
        "outputId": "e3a14ba9-5196-4e61-d3eb-374fb38993ff",
        "trusted": true
      },
      "outputs": [
        {
          "name": "stdout",
          "output_type": "stream",
          "text": [
            "-------- Training --------\n",
            "Logistic trained!\n",
            "   KNN   trained!\n",
            "   RF    trained!\n",
            "   SVC   trained!\n",
            "---------- Done ----------\n"
          ]
        }
      ],
      "source": [
        "models = {\n",
        "    \"Logistic\": LogisticRegression(),\n",
        "    \"   KNN  \": KNeighborsClassifier(),\n",
        "    \"   RF   \": RandomForestClassifier(),\n",
        "    \"   SVC  \": SVC(),\n",
        "}\n",
        "\n",
        "print(\"-------- Training --------\")\n",
        "for name, model in models.items():\n",
        "    model.fit(X_train, y_train)\n",
        "    print(name + \" trained!\")\n",
        "print(\"---------- Done ----------\")"
      ]
    },
    {
      "cell_type": "markdown",
      "metadata": {
        "id": "NMf062YtMbWv"
      },
      "source": [
        "# Results"
      ]
    },
    {
      "cell_type": "code",
      "execution_count": 96,
      "metadata": {
        "colab": {
          "base_uri": "https://localhost:8080/"
        },
        "execution": {
          "iopub.execute_input": "2022-10-05T17:28:05.436737Z",
          "iopub.status.busy": "2022-10-05T17:28:05.4362Z",
          "iopub.status.idle": "2022-10-05T17:28:05.505457Z",
          "shell.execute_reply": "2022-10-05T17:28:05.504034Z",
          "shell.execute_reply.started": "2022-10-05T17:28:05.436705Z"
        },
        "id": "zTme7ZxPMbWw",
        "outputId": "70f08fdc-81e5-49e4-d089-73b2e25db535",
        "trusted": true
      },
      "outputs": [
        {
          "name": "stdout",
          "output_type": "stream",
          "text": [
            "Logistic    Accuracy: 85.25 %\n",
            "            F1 Score: 87.32 %\n",
            "              Recall: 91.18 %\n",
            "           Precision: 83.78 %\n",
            "-----------------------------\n",
            "   KNN      Accuracy: 81.97 %\n",
            "            F1 Score: 84.06 %\n",
            "              Recall: 85.29 %\n",
            "           Precision: 82.86 %\n",
            "-----------------------------\n",
            "   RF       Accuracy: 86.89 %\n",
            "            F1 Score: 88.24 %\n",
            "              Recall: 88.24 %\n",
            "           Precision: 88.24 %\n",
            "-----------------------------\n",
            "   SVC      Accuracy: 86.89 %\n",
            "            F1 Score: 88.89 %\n",
            "              Recall: 94.12 %\n",
            "           Precision: 84.21 %\n",
            "-----------------------------\n"
          ]
        }
      ],
      "source": [
        "results = []\n",
        "for name, model in models.items():\n",
        "    y_pred = model.predict(X_test)\n",
        "    print(name + \"    Accuracy: {:.2f} %\".format(accuracy_score(y_test, y_pred) * 100))\n",
        "    print(\"            F1 Score: {:.2f} %\".format(f1_score(y_test, y_pred) * 100))\n",
        "    print(\"              Recall: {:.2f} %\".format(recall_score(y_test, y_pred) * 100))\n",
        "    print(\"           Precision: {:.2f} %\".format(precision_score(y_test, y_pred) * 100))\n",
        "    print(\"-----------------------------\")\n",
        "    results.append(confusion_matrix(y_test, y_pred))"
      ]
    },
    {
      "cell_type": "code",
      "execution_count": 97,
      "metadata": {
        "colab": {
          "base_uri": "https://localhost:8080/",
          "height": 241
        },
        "execution": {
          "iopub.execute_input": "2022-10-05T17:30:51.827742Z",
          "iopub.status.busy": "2022-10-05T17:30:51.826805Z",
          "iopub.status.idle": "2022-10-05T17:30:52.328909Z",
          "shell.execute_reply": "2022-10-05T17:30:52.327755Z",
          "shell.execute_reply.started": "2022-10-05T17:30:51.827694Z"
        },
        "id": "fEO094wAMbWw",
        "outputId": "3cc9e4a3-c1da-4d69-83ce-aad2c81f60dc",
        "trusted": true
      },
      "outputs": [
        {
          "data": {
            "image/png": "[encoded data removed]",
            "text/plain": [
              "<Figure size 1440x216 with 4 Axes>"
            ]
          },
          "metadata": {
            "needs_background": "light"
          },
          "output_type": "display_data"
        }
      ],
      "source": [
        "# Confusion matrices\n",
        "plt.figure(figsize=(20, 3))\n",
        "\n",
        "for i, name in enumerate(list(models.keys())):\n",
        "    plt.subplot(1, 5, i + 1)\n",
        "    sns.heatmap(results[i], annot=True, square=True, cbar=False,\n",
        "                xticklabels=['No Risk', 'Risk'], yticklabels=['No Risk', 'Risk'], cmap='Blues')\n",
        "    plt.title(name)\n",
        "    plt.xlabel('Predicted')\n",
        "    plt.ylabel('Actual')\n",
        "plt.show()"
      ]
    }
  ],
  "metadata": {
    "colab": {
      "collapsed_sections": [],
      "provenance": []
    },
    "kernelspec": {
      "display_name": "Python 3.9.13 64-bit (microsoft store)",
      "language": "python",
      "name": "python3"
    },
    "language_info": {
      "codemirror_mode": {
        "name": "ipython",
        "version": 3
      },
      "file_extension": ".py",
      "mimetype": "text/x-python",
      "name": "python",
      "nbconvert_exporter": "python",
      "pygments_lexer": "ipython3",
      "version": "3.9.13"
    },
    "vscode": {
      "interpreter": {
        "hash": "ec0c330130e0f9bf479fa3aea46c7a586804e0220cf06289454b42ca88de5200"
      }
    }
  },
  "nbformat": 4,
  "nbformat_minor": 0
}
